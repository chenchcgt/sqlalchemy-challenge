{
 "cells": [
  {
   "cell_type": "code",
   "execution_count": 1,
   "metadata": {},
   "outputs": [],
   "source": [
    "%matplotlib inline\n",
    "from matplotlib import style\n",
    "style.use('fivethirtyeight')\n",
    "import matplotlib.pyplot as plt"
   ]
  },
  {
   "cell_type": "code",
   "execution_count": 2,
   "metadata": {},
   "outputs": [],
   "source": [
    "import numpy as np\n",
    "import pandas as pd"
   ]
  },
  {
   "cell_type": "code",
   "execution_count": 3,
   "metadata": {},
   "outputs": [],
   "source": [
    "import datetime as dt"
   ]
  },
  {
   "cell_type": "markdown",
   "metadata": {},
   "source": [
    "# Reflect Tables into SQLAlchemy ORM"
   ]
  },
  {
   "cell_type": "code",
   "execution_count": 4,
   "metadata": {},
   "outputs": [],
   "source": [
    "# Python SQL toolkit and Object Relational Mapper\n",
    "import sqlalchemy\n",
    "from sqlalchemy.ext.automap import automap_base\n",
    "from sqlalchemy.orm import Session\n",
    "from sqlalchemy import create_engine, func"
   ]
  },
  {
   "cell_type": "code",
   "execution_count": 5,
   "metadata": {},
   "outputs": [],
   "source": [
    "engine = create_engine(\"sqlite:///Resources/hawaii.sqlite\")"
   ]
  },
  {
   "cell_type": "code",
   "execution_count": 6,
   "metadata": {},
   "outputs": [],
   "source": [
    "# reflect an existing database into a new model\n",
    "Base = automap_base()\n",
    "\n",
    "# reflect the tables\n",
    "Base.prepare(engine, reflect = True)"
   ]
  },
  {
   "cell_type": "code",
   "execution_count": 7,
   "metadata": {},
   "outputs": [
    {
     "data": {
      "text/plain": [
       "['measurement', 'station']"
      ]
     },
     "execution_count": 7,
     "metadata": {},
     "output_type": "execute_result"
    }
   ],
   "source": [
    "# We can view all of the classes that automap found\n",
    "Base.classes.keys()"
   ]
  },
  {
   "cell_type": "code",
   "execution_count": 8,
   "metadata": {},
   "outputs": [
    {
     "data": {
      "text/plain": [
       "mappingproxy({'__table__': Table('measurement', MetaData(bind=None), Column('id', INTEGER(), table=<measurement>, primary_key=True, nullable=False), Column('station', TEXT(), table=<measurement>), Column('date', TEXT(), table=<measurement>), Column('prcp', FLOAT(), table=<measurement>), Column('tobs', FLOAT(), table=<measurement>), schema=None),\n",
       "              '__module__': 'sqlalchemy.ext.automap',\n",
       "              '__doc__': None,\n",
       "              '_sa_class_manager': <ClassManager of <class 'sqlalchemy.ext.automap.measurement'> at 21e8200e830>,\n",
       "              '__init__': <function __init__(self, **kwargs)>,\n",
       "              'id': <sqlalchemy.orm.attributes.InstrumentedAttribute at 0x21e8200e938>,\n",
       "              'station': <sqlalchemy.orm.attributes.InstrumentedAttribute at 0x21e8200e9e8>,\n",
       "              'date': <sqlalchemy.orm.attributes.InstrumentedAttribute at 0x21e8200ea40>,\n",
       "              'prcp': <sqlalchemy.orm.attributes.InstrumentedAttribute at 0x21e8200ea98>,\n",
       "              'tobs': <sqlalchemy.orm.attributes.InstrumentedAttribute at 0x21e8200eaf0>,\n",
       "              '__mapper__': <Mapper at 0x21e8201ef98; measurement>})"
      ]
     },
     "execution_count": 8,
     "metadata": {},
     "output_type": "execute_result"
    }
   ],
   "source": [
    "# Save references to Measurement table\n",
    "Measurement = Base.classes.measurement\n",
    "Measurement.__dict__\n"
   ]
  },
  {
   "cell_type": "code",
   "execution_count": 9,
   "metadata": {},
   "outputs": [
    {
     "data": {
      "text/plain": [
       "mappingproxy({'__table__': Table('station', MetaData(bind=None), Column('id', INTEGER(), table=<station>, primary_key=True, nullable=False), Column('station', TEXT(), table=<station>), Column('name', TEXT(), table=<station>), Column('latitude', FLOAT(), table=<station>), Column('longitude', FLOAT(), table=<station>), Column('elevation', FLOAT(), table=<station>), schema=None),\n",
       "              '__module__': 'sqlalchemy.ext.automap',\n",
       "              '__doc__': None,\n",
       "              '_sa_class_manager': <ClassManager of <class 'sqlalchemy.ext.automap.station'> at 21e8200e990>,\n",
       "              '__init__': <function __init__(self, **kwargs)>,\n",
       "              'id': <sqlalchemy.orm.attributes.InstrumentedAttribute at 0x21e8200eba0>,\n",
       "              'station': <sqlalchemy.orm.attributes.InstrumentedAttribute at 0x21e8200ec50>,\n",
       "              'name': <sqlalchemy.orm.attributes.InstrumentedAttribute at 0x21e8200eca8>,\n",
       "              'latitude': <sqlalchemy.orm.attributes.InstrumentedAttribute at 0x21e8200ed00>,\n",
       "              'longitude': <sqlalchemy.orm.attributes.InstrumentedAttribute at 0x21e8200ed58>,\n",
       "              'elevation': <sqlalchemy.orm.attributes.InstrumentedAttribute at 0x21e8200edb0>,\n",
       "              '__mapper__': <Mapper at 0x21efad23be0; station>})"
      ]
     },
     "execution_count": 9,
     "metadata": {},
     "output_type": "execute_result"
    }
   ],
   "source": [
    "# Save reference of Station table\n",
    "Station = Base.classes.station\n",
    "Station.__dict__"
   ]
  },
  {
   "cell_type": "code",
   "execution_count": 10,
   "metadata": {},
   "outputs": [],
   "source": [
    "# Create our session (link) from Python to the DB\n",
    "session = Session(engine)\n"
   ]
  },
  {
   "cell_type": "markdown",
   "metadata": {},
   "source": [
    "# Exploratory Climate Analysis"
   ]
  },
  {
   "cell_type": "code",
   "execution_count": 11,
   "metadata": {},
   "outputs": [
    {
     "data": {
      "image/png": "[encoded data removed]",
      "text/plain": [
       "<Figure size 432x288 with 1 Axes>"
      ]
     },
     "metadata": {},
     "output_type": "display_data"
    }
   ],
   "source": [
    "# Design a query to retrieve the last 12 months of precipitation data and plot the results\n",
    "\n",
    "# Calculate the date 1 year ago from the last data point in the database\n",
    "last_date = session.query(Measurement.date).order_by(Measurement.date.desc()).first() \n",
    "\n",
    "# Get date into format for calculation and take a year off to find last year data\n",
    "dateparts = last_date[0].split('-')\n",
    "previousyear = dt.date(int(dateparts[0]),int(dateparts[1]),int(dateparts[2]))- dt.timedelta(days=365)\n",
    "\n",
    "# Perform a query to retrieve the data and precipitation scores\n",
    "data = session.query(Measurement.prcp, Measurement.date).filter(Measurement.date >=previousyear).\\\n",
    "order_by(Measurement.date.desc()).all()\n",
    "data\n",
    "\n",
    "# Save the query results as a Pandas DataFrame and set the index to the date column\n",
    "prec_data = pd.DataFrame(data)\n",
    "prec_data.set_index('date', inplace = True)\n",
    "prec_data\n",
    "\n",
    "# Drop NAN values\n",
    "clean_data = prec_data.dropna(axis=0,how='all')\n",
    "clean_data\n",
    "\n",
    "# Sort the dataframe by date\n",
    "sorted_data = clean_data.sort_values(by=\"date\",ascending=False)\n",
    "sorted_data\n",
    "\n",
    "# Use Pandas Plotting with Matplotlib to plot the data\n",
    "\n",
    "graph = sorted_data.plot(rot=90)\n",
    "plt.title = \"Precipitation by Date\"\n",
    "plt.ylabel = \"Precipitation\"\n",
    "\n",
    "plt.show()\n",
    "\n"
   ]
  },
  {
   "cell_type": "code",
   "execution_count": 12,
   "metadata": {},
   "outputs": [
    {
     "data": {
      "text/html": [
       "<div>\n",
       "<style scoped>\n",
       "    .dataframe tbody tr th:only-of-type {\n",
       "        vertical-align: middle;\n",
       "    }\n",
       "\n",
       "    .dataframe tbody tr th {\n",
       "        vertical-align: top;\n",
       "    }\n",
       "\n",
       "    .dataframe thead th {\n",
       "        text-align: right;\n",
       "    }\n",
       "</style>\n",
       "<table border=\"1\" class=\"dataframe\">\n",
       "  <thead>\n",
       "    <tr style=\"text-align: right;\">\n",
       "      <th></th>\n",
       "      <th>prcp</th>\n",
       "    </tr>\n",
       "  </thead>\n",
       "  <tbody>\n",
       "    <tr>\n",
       "      <th>count</th>\n",
       "      <td>2021.000000</td>\n",
       "    </tr>\n",
       "    <tr>\n",
       "      <th>mean</th>\n",
       "      <td>0.177279</td>\n",
       "    </tr>\n",
       "    <tr>\n",
       "      <th>std</th>\n",
       "      <td>0.461190</td>\n",
       "    </tr>\n",
       "    <tr>\n",
       "      <th>min</th>\n",
       "      <td>0.000000</td>\n",
       "    </tr>\n",
       "    <tr>\n",
       "      <th>25%</th>\n",
       "      <td>0.000000</td>\n",
       "    </tr>\n",
       "    <tr>\n",
       "      <th>50%</th>\n",
       "      <td>0.020000</td>\n",
       "    </tr>\n",
       "    <tr>\n",
       "      <th>75%</th>\n",
       "      <td>0.130000</td>\n",
       "    </tr>\n",
       "    <tr>\n",
       "      <th>max</th>\n",
       "      <td>6.700000</td>\n",
       "    </tr>\n",
       "  </tbody>\n",
       "</table>\n",
       "</div>"
      ],
      "text/plain": [
       "              prcp\n",
       "count  2021.000000\n",
       "mean      0.177279\n",
       "std       0.461190\n",
       "min       0.000000\n",
       "25%       0.000000\n",
       "50%       0.020000\n",
       "75%       0.130000\n",
       "max       6.700000"
      ]
     },
     "execution_count": 12,
     "metadata": {},
     "output_type": "execute_result"
    }
   ],
   "source": [
    "# Use Pandas to calculate the summary statistics for the precipitation data\n",
    "summary = sorted_data.describe()\n",
    "summary"
   ]
  },
  {
   "cell_type": "code",
   "execution_count": 13,
   "metadata": {},
   "outputs": [
    {
     "data": {
      "text/plain": [
       "9"
      ]
     },
     "execution_count": 13,
     "metadata": {},
     "output_type": "execute_result"
    }
   ],
   "source": [
    "# Design a query to show how many stations are available in this dataset?\n",
    "count=session.query(Station.id).count()\n",
    "count"
   ]
  },
  {
   "cell_type": "code",
   "execution_count": 14,
   "metadata": {},
   "outputs": [
    {
     "data": {
      "text/plain": [
       "'USC00519281'"
      ]
     },
     "execution_count": 14,
     "metadata": {},
     "output_type": "execute_result"
    }
   ],
   "source": [
    "# What are the most active stations? (i.e. what stations have the most rows)?\n",
    "# List the stations and the counts in descending order.\n",
    "count_station = session.query(Measurement.station,(func.count(Measurement.station))).\\\n",
    "group_by(Measurement.station).order_by(func.count(Measurement.station).desc()).all()\n",
    "count_station\n",
    "\n",
    "# Unpack tuples\n",
    "unpack = [station for station,count in count_station]\n",
    "unpack\n",
    "\n",
    "# get the most activate station\n",
    "most_active_station = unpack[0]\n",
    "most_active_station"
   ]
  },
  {
   "cell_type": "code",
   "execution_count": 15,
   "metadata": {},
   "outputs": [
    {
     "name": "stdout",
     "output_type": "stream",
     "text": [
      "(54.0,)\n",
      "(85.0,)\n",
      "(71.66378066378067,)\n"
     ]
    }
   ],
   "source": [
    "# Using the station id from the previous query, calculate the lowest temperature recorded, \n",
    "# highest temperature recorded, and average temperature of the most active station?\n",
    "lowest = session.query(func.min(Measurement.tobs)).filter(Measurement.station==most_active_station).first()\n",
    "print(lowest)\n",
    "\n",
    "highest = session.query(func.max(Measurement.tobs)).filter(Measurement.station==most_active_station).first()\n",
    "print(highest)\n",
    "\n",
    "average = session.query(func.avg(Measurement.tobs)).filter(Measurement.station==most_active_station).first()\n",
    "print(average)"
   ]
  },
  {
   "cell_type": "code",
   "execution_count": 16,
   "metadata": {},
   "outputs": [
    {
     "name": "stdout",
     "output_type": "stream",
     "text": [
      "('2017-08-18',)\n",
      "2016-08-18\n"
     ]
    },
    {
     "data": {
      "text/plain": [
       "[('2017-08-18', 79.0),\n",
       " ('2017-08-17', 76.0),\n",
       " ('2017-08-16', 76.0),\n",
       " ('2017-08-15', 77.0),\n",
       " ('2017-08-14', 77.0),\n",
       " ('2017-08-13', 77.0),\n",
       " ('2017-08-06', 83.0),\n",
       " ('2017-08-05', 82.0),\n",
       " ('2017-08-04', 77.0),\n",
       " ('2017-07-31', 76.0),\n",
       " ('2017-07-30', 81.0),\n",
       " ('2017-07-29', 82.0),\n",
       " ('2017-07-28', 81.0),\n",
       " ('2017-07-27', 76.0),\n",
       " ('2017-07-26', 75.0),\n",
       " ('2017-07-25', 77.0),\n",
       " ('2017-07-24', 75.0),\n",
       " ('2017-07-23', 82.0),\n",
       " ('2017-07-22', 77.0),\n",
       " ('2017-07-21', 77.0),\n",
       " ('2017-07-20', 77.0),\n",
       " ('2017-07-19', 76.0),\n",
       " ('2017-07-18', 76.0),\n",
       " ('2017-07-17', 76.0),\n",
       " ('2017-07-16', 80.0),\n",
       " ('2017-07-15', 80.0),\n",
       " ('2017-07-14', 76.0),\n",
       " ('2017-07-13', 74.0),\n",
       " ('2017-07-12', 74.0),\n",
       " ('2017-07-11', 72.0),\n",
       " ('2017-07-10', 69.0),\n",
       " ('2017-07-09', 78.0),\n",
       " ('2017-07-08', 78.0),\n",
       " ('2017-07-07', 75.0),\n",
       " ('2017-07-06', 74.0),\n",
       " ('2017-07-05', 77.0),\n",
       " ('2017-07-04', 78.0),\n",
       " ('2017-07-03', 76.0),\n",
       " ('2017-07-02', 81.0),\n",
       " ('2017-07-01', 79.0),\n",
       " ('2017-06-30', 76.0),\n",
       " ('2017-06-29', 76.0),\n",
       " ('2017-06-28', 77.0),\n",
       " ('2017-06-27', 76.0),\n",
       " ('2017-06-26', 73.0),\n",
       " ('2017-06-25', 71.0),\n",
       " ('2017-06-24', 77.0),\n",
       " ('2017-06-23', 72.0),\n",
       " ('2017-06-22', 72.0),\n",
       " ('2017-06-21', 74.0),\n",
       " ('2017-06-20', 72.0),\n",
       " ('2017-06-19', 72.0),\n",
       " ('2017-06-18', 75.0),\n",
       " ('2017-06-17', 79.0),\n",
       " ('2017-06-16', 73.0),\n",
       " ('2017-06-15', 75.0),\n",
       " ('2017-06-14', 74.0),\n",
       " ('2017-06-13', 76.0),\n",
       " ('2017-06-12', 74.0),\n",
       " ('2017-06-11', 74.0),\n",
       " ('2017-06-10', 74.0),\n",
       " ('2017-06-09', 72.0),\n",
       " ('2017-06-08', 75.0),\n",
       " ('2017-06-07', 75.0),\n",
       " ('2017-06-06', 75.0),\n",
       " ('2017-06-05', 75.0),\n",
       " ('2017-06-04', 77.0),\n",
       " ('2017-06-03', 76.0),\n",
       " ('2017-06-02', 76.0),\n",
       " ('2017-06-01', 80.0),\n",
       " ('2017-05-31', 75.0),\n",
       " ('2017-05-30', 72.0),\n",
       " ('2017-05-29', 74.0),\n",
       " ('2017-05-28', 80.0),\n",
       " ('2017-05-27', 74.0),\n",
       " ('2017-05-26', 74.0),\n",
       " ('2017-05-25', 74.0),\n",
       " ('2017-05-24', 74.0),\n",
       " ('2017-05-23', 71.0),\n",
       " ('2017-05-22', 71.0),\n",
       " ('2017-05-21', 74.0),\n",
       " ('2017-05-20', 76.0),\n",
       " ('2017-05-19', 68.0),\n",
       " ('2017-05-18', 69.0),\n",
       " ('2017-05-17', 74.0),\n",
       " ('2017-05-16', 74.0),\n",
       " ('2017-05-15', 74.0),\n",
       " ('2017-05-14', 77.0),\n",
       " ('2017-05-13', 76.0),\n",
       " ('2017-05-12', 75.0),\n",
       " ('2017-05-11', 70.0),\n",
       " ('2017-05-10', 74.0),\n",
       " ('2017-05-09', 67.0),\n",
       " ('2017-05-08', 70.0),\n",
       " ('2017-05-07', 75.0),\n",
       " ('2017-05-06', 79.0),\n",
       " ('2017-05-05', 70.0),\n",
       " ('2017-05-04', 75.0),\n",
       " ('2017-05-03', 70.0),\n",
       " ('2017-05-02', 75.0),\n",
       " ('2017-05-01', 65.0),\n",
       " ('2017-04-30', 60.0),\n",
       " ('2017-04-29', 72.0),\n",
       " ('2017-04-28', 67.0),\n",
       " ('2017-04-27', 70.0),\n",
       " ('2017-04-26', 74.0),\n",
       " ('2017-04-25', 72.0),\n",
       " ('2017-04-24', 68.0),\n",
       " ('2017-04-23', 76.0),\n",
       " ('2017-04-22', 72.0),\n",
       " ('2017-04-21', 69.0),\n",
       " ('2017-04-20', 76.0),\n",
       " ('2017-04-19', 67.0),\n",
       " ('2017-04-18', 68.0),\n",
       " ('2017-04-17', 67.0),\n",
       " ('2017-04-16', 71.0),\n",
       " ('2017-04-15', 78.0),\n",
       " ('2017-04-14', 74.0),\n",
       " ('2017-04-13', 69.0),\n",
       " ('2017-04-12', 69.0),\n",
       " ('2017-04-11', 70.0),\n",
       " ('2017-04-10', 67.0),\n",
       " ('2017-04-09', 78.0),\n",
       " ('2017-04-08', 77.0),\n",
       " ('2017-04-07', 74.0),\n",
       " ('2017-04-06', 67.0),\n",
       " ('2017-04-05', 71.0),\n",
       " ('2017-04-04', 67.0),\n",
       " ('2017-04-03', 70.0),\n",
       " ('2017-04-02', 75.0),\n",
       " ('2017-04-01', 74.0),\n",
       " ('2017-03-31', 71.0),\n",
       " ('2017-03-30', 73.0),\n",
       " ('2017-03-29', 68.0),\n",
       " ('2017-03-28', 74.0),\n",
       " ('2017-03-27', 76.0),\n",
       " ('2017-03-26', 77.0),\n",
       " ('2017-03-25', 76.0),\n",
       " ('2017-03-24', 71.0),\n",
       " ('2017-03-23', 72.0),\n",
       " ('2017-03-22', 73.0),\n",
       " ('2017-03-21', 72.0),\n",
       " ('2017-03-20', 69.0),\n",
       " ('2017-03-19', 74.0),\n",
       " ('2017-03-18', 65.0),\n",
       " ('2017-03-17', 68.0),\n",
       " ('2017-03-16', 66.0),\n",
       " ('2017-03-15', 69.0),\n",
       " ('2017-03-14', 67.0),\n",
       " ('2017-03-13', 66.0),\n",
       " ('2017-03-12', 69.0),\n",
       " ('2017-03-11', 81.0),\n",
       " ('2017-03-10', 66.0),\n",
       " ('2017-03-09', 67.0),\n",
       " ('2017-03-08', 64.0),\n",
       " ('2017-03-07', 62.0),\n",
       " ('2017-03-06', 67.0),\n",
       " ('2017-03-05', 73.0),\n",
       " ('2017-03-04', 77.0),\n",
       " ('2017-03-03', 72.0),\n",
       " ('2017-03-02', 73.0),\n",
       " ('2017-03-01', 71.0),\n",
       " ('2017-02-28', 72.0),\n",
       " ('2017-02-27', 65.0),\n",
       " ('2017-02-26', 67.0),\n",
       " ('2017-02-25', 61.0),\n",
       " ('2017-02-24', 69.0),\n",
       " ('2017-02-23', 71.0),\n",
       " ('2017-02-22', 71.0),\n",
       " ('2017-02-21', 71.0),\n",
       " ('2017-02-20', 70.0),\n",
       " ('2017-02-19', 70.0),\n",
       " ('2017-02-18', 74.0),\n",
       " ('2017-02-17', 70.0),\n",
       " ('2017-02-16', 65.0),\n",
       " ('2017-02-15', 75.0),\n",
       " ('2017-02-14', 79.0),\n",
       " ('2017-02-13', 73.0),\n",
       " ('2017-02-12', 70.0),\n",
       " ('2017-02-11', 68.0),\n",
       " ('2017-02-10', 62.0),\n",
       " ('2017-02-09', 59.0),\n",
       " ('2017-02-08', 59.0),\n",
       " ('2017-02-07', 64.0),\n",
       " ('2017-02-06', 75.0),\n",
       " ('2017-02-05', 73.0),\n",
       " ('2017-02-04', 70.0),\n",
       " ('2017-02-03', 60.0),\n",
       " ('2017-02-02', 59.0),\n",
       " ('2017-02-01', 68.0),\n",
       " ('2017-01-31', 68.0),\n",
       " ('2017-01-30', 68.0),\n",
       " ('2017-01-29', 69.0),\n",
       " ('2017-01-28', 65.0),\n",
       " ('2017-01-27', 66.0),\n",
       " ('2017-01-26', 70.0),\n",
       " ('2017-01-25', 69.0),\n",
       " ('2017-01-24', 72.0),\n",
       " ('2017-01-23', 72.0),\n",
       " ('2017-01-22', 71.0),\n",
       " ('2017-01-21', 71.0),\n",
       " ('2017-01-20', 69.0),\n",
       " ('2017-01-19', 71.0),\n",
       " ('2017-01-18', 72.0),\n",
       " ('2017-01-17', 69.0),\n",
       " ('2017-01-16', 74.0),\n",
       " ('2017-01-15', 70.0),\n",
       " ('2017-01-14', 77.0),\n",
       " ('2017-01-13', 69.0),\n",
       " ('2017-01-12', 65.0),\n",
       " ('2017-01-11', 63.0),\n",
       " ('2017-01-10', 62.0),\n",
       " ('2017-01-09', 62.0),\n",
       " ('2017-01-08', 70.0),\n",
       " ('2017-01-07', 70.0),\n",
       " ('2017-01-06', 62.0),\n",
       " ('2017-01-05', 63.0),\n",
       " ('2017-01-04', 63.0),\n",
       " ('2017-01-03', 64.0),\n",
       " ('2017-01-02', 70.0),\n",
       " ('2017-01-01', 72.0),\n",
       " ('2016-12-31', 67.0),\n",
       " ('2016-12-30', 69.0),\n",
       " ('2016-12-29', 74.0),\n",
       " ('2016-12-28', 72.0),\n",
       " ('2016-12-27', 71.0),\n",
       " ('2016-12-26', 72.0),\n",
       " ('2016-12-25', 74.0),\n",
       " ('2016-12-24', 74.0),\n",
       " ('2016-12-23', 71.0),\n",
       " ('2016-12-22', 73.0),\n",
       " ('2016-12-21', 74.0),\n",
       " ('2016-12-20', 76.0),\n",
       " ('2016-12-19', 76.0),\n",
       " ('2016-12-18', 69.0),\n",
       " ('2016-12-17', 70.0),\n",
       " ('2016-12-16', 75.0),\n",
       " ('2016-12-15', 62.0),\n",
       " ('2016-12-14', 68.0),\n",
       " ('2016-12-13', 65.0),\n",
       " ('2016-12-12', 66.0),\n",
       " ('2016-12-11', 69.0),\n",
       " ('2016-12-10', 69.0),\n",
       " ('2016-12-09', 68.0),\n",
       " ('2016-12-08', 70.0),\n",
       " ('2016-12-07', 69.0),\n",
       " ('2016-12-06', 67.0),\n",
       " ('2016-12-05', 67.0),\n",
       " ('2016-12-04', 70.0),\n",
       " ('2016-12-03', 72.0),\n",
       " ('2016-12-02', 70.0),\n",
       " ('2016-12-01', 74.0),\n",
       " ('2016-11-30', 73.0),\n",
       " ('2016-11-29', 73.0),\n",
       " ('2016-11-28', 75.0),\n",
       " ('2016-11-27', 73.0),\n",
       " ('2016-11-26', 75.0),\n",
       " ('2016-11-25', 74.0),\n",
       " ('2016-11-24', 75.0),\n",
       " ('2016-11-23', 74.0),\n",
       " ('2016-11-22', 75.0),\n",
       " ('2016-11-21', 73.0),\n",
       " ('2016-11-20', 75.0),\n",
       " ('2016-11-19', 73.0),\n",
       " ('2016-11-18', 75.0),\n",
       " ('2016-11-17', 76.0),\n",
       " ('2016-11-16', 75.0),\n",
       " ('2016-11-15', 76.0),\n",
       " ('2016-11-14', 76.0),\n",
       " ('2016-11-13', 77.0),\n",
       " ('2016-11-12', 74.0),\n",
       " ('2016-11-11', 77.0),\n",
       " ('2016-11-10', 67.0),\n",
       " ('2016-11-09', 68.0),\n",
       " ('2016-11-08', 70.0),\n",
       " ('2016-11-07', 63.0),\n",
       " ('2016-11-06', 71.0),\n",
       " ('2016-11-05', 75.0),\n",
       " ('2016-11-04', 75.0),\n",
       " ('2016-11-03', 75.0),\n",
       " ('2016-11-02', 75.0),\n",
       " ('2016-11-01', 74.0),\n",
       " ('2016-10-31', 76.0),\n",
       " ('2016-10-30', 76.0),\n",
       " ('2016-10-29', 77.0),\n",
       " ('2016-10-28', 74.0),\n",
       " ('2016-10-27', 76.0),\n",
       " ('2016-10-26', 73.0),\n",
       " ('2016-10-25', 76.0),\n",
       " ('2016-10-24', 75.0),\n",
       " ('2016-10-23', 74.0),\n",
       " ('2016-10-22', 77.0),\n",
       " ('2016-10-21', 78.0),\n",
       " ('2016-10-20', 78.0),\n",
       " ('2016-10-19', 78.0),\n",
       " ('2016-10-18', 78.0),\n",
       " ('2016-10-17', 77.0),\n",
       " ('2016-10-16', 79.0),\n",
       " ('2016-10-15', 77.0),\n",
       " ('2016-10-14', 79.0),\n",
       " ('2016-10-13', 78.0),\n",
       " ('2016-10-12', 79.0),\n",
       " ('2016-10-11', 77.0),\n",
       " ('2016-10-10', 71.0),\n",
       " ('2016-10-09', 72.0),\n",
       " ('2016-10-08', 73.0),\n",
       " ('2016-10-07', 76.0),\n",
       " ('2016-10-06', 75.0),\n",
       " ('2016-10-05', 79.0),\n",
       " ('2016-10-04', 79.0),\n",
       " ('2016-10-03', 79.0),\n",
       " ('2016-10-02', 79.0),\n",
       " ('2016-10-01', 77.0),\n",
       " ('2016-09-30', 78.0),\n",
       " ('2016-09-29', 78.0),\n",
       " ('2016-09-28', 78.0),\n",
       " ('2016-09-27', 80.0),\n",
       " ('2016-09-26', 77.0),\n",
       " ('2016-09-25', 79.0),\n",
       " ('2016-09-24', 79.0),\n",
       " ('2016-09-23', 78.0),\n",
       " ('2016-09-22', 77.0),\n",
       " ('2016-09-21', 74.0),\n",
       " ('2016-09-20', 76.0),\n",
       " ('2016-09-19', 78.0),\n",
       " ('2016-09-18', 78.0),\n",
       " ('2016-09-17', 79.0),\n",
       " ('2016-09-16', 78.0),\n",
       " ('2016-09-15', 79.0),\n",
       " ('2016-09-14', 75.0),\n",
       " ('2016-09-13', 79.0),\n",
       " ('2016-09-12', 76.0),\n",
       " ('2016-09-11', 80.0),\n",
       " ('2016-09-10', 77.0),\n",
       " ('2016-09-09', 79.0),\n",
       " ('2016-09-08', 80.0),\n",
       " ('2016-09-07', 74.0),\n",
       " ('2016-09-06', 73.0),\n",
       " ('2016-09-05', 78.0),\n",
       " ('2016-09-04', 78.0),\n",
       " ('2016-09-03', 78.0),\n",
       " ('2016-09-02', 80.0),\n",
       " ('2016-09-01', 80.0),\n",
       " ('2016-08-31', 78.0),\n",
       " ('2016-08-30', 77.0),\n",
       " ('2016-08-29', 78.0),\n",
       " ('2016-08-28', 73.0),\n",
       " ('2016-08-27', 75.0),\n",
       " ('2016-08-26', 80.0),\n",
       " ('2016-08-25', 80.0),\n",
       " ('2016-08-24', 77.0),\n",
       " ('2016-08-23', 77.0),\n",
       " ('2016-08-22', 78.0),\n",
       " ('2016-08-21', 79.0),\n",
       " ('2016-08-20', 81.0),\n",
       " ('2016-08-19', 79.0)]"
      ]
     },
     "execution_count": 16,
     "metadata": {},
     "output_type": "execute_result"
    }
   ],
   "source": [
    "# Choose the station with the highest number of temperature observations.\n",
    "# Query the last 12 months of temperature observation data for this station and plot the results as a histogram\n",
    "\n",
    "# get last date of most active station\n",
    "last_date_station = session.query(Measurement.date).filter(Measurement.station==most_active_station).\\\n",
    "            order_by(Measurement.date.desc()).first()\n",
    "print(last_date_station)\n",
    "\n",
    "# Get date into format for calculation and take a year off to find last year data\n",
    "last_date_parts = last_date_station[0].split('-')\n",
    "previous_year_station = dt.date(int(last_date_parts[0]),int(last_date_parts[1]),\\\n",
    "                                int(last_date_parts[2]))- dt.timedelta(days=365)\n",
    "print(previous_year_station)\n",
    "\n",
    "# query of last 12 months of temperature observation for most active station\n",
    "last_year_station=session.query(Measurement.date,Measurement.tobs).filter(Measurement.date >previous_year_station).\\\n",
    "                filter(Measurement.station==most_active_station).\\\n",
    "                order_by(Measurement.date.desc()).all()\n",
    "last_year_station\n"
   ]
  },
  {
   "cell_type": "code",
   "execution_count": 17,
   "metadata": {
    "scrolled": true
   },
   "outputs": [
    {
     "data": {
      "image/png": "[encoded data removed]",
      "text/plain": [
       "<Figure size 432x288 with 1 Axes>"
      ]
     },
     "metadata": {},
     "output_type": "display_data"
    }
   ],
   "source": [
    "# Save the query results as a Pandas DataFrame and set the index to the date column\n",
    "prec_data_station = pd.DataFrame(last_year_station)\n",
    "prec_data_station.set_index('date', inplace = True)\n",
    "prec_data_station\n",
    "\n",
    "clean_data_station = prec_data_station.dropna(axis=0,how='all')\n",
    "clean_data_station\n",
    "\n",
    "# Sort the dataframe by date\n",
    "sorted_data_station = clean_data_station.sort_values(by=\"date\",ascending=False)\n",
    "sorted_data_station\n",
    "\n",
    "# plot the histogram\n",
    "sorted_data_station.plot.hist(bins=12)\n",
    "plt.xlabel('Temperature')\n",
    "plt.show()\n"
   ]
  },
  {
   "cell_type": "markdown",
   "metadata": {},
   "source": [
    "## Bonus Challenge Assignment"
   ]
  },
  {
   "cell_type": "code",
   "execution_count": 18,
   "metadata": {},
   "outputs": [
    {
     "name": "stdout",
     "output_type": "stream",
     "text": [
      "[(62.0, 69.57142857142857, 74.0)]\n"
     ]
    }
   ],
   "source": [
    "# This function called `calc_temps` will accept start date and end date in the format '%Y-%m-%d' \n",
    "# and return the minimum, average, and maximum temperatures for that range of dates\n",
    "def calc_temps(start_date, end_date):\n",
    "    \"\"\"TMIN, TAVG, and TMAX for a list of dates.\n",
    "    \n",
    "    Args:\n",
    "        start_date (string): A date string in the format %Y-%m-%d\n",
    "        end_date (string): A date string in the format %Y-%m-%d\n",
    "        \n",
    "    Returns:\n",
    "        TMIN, TAVE, and TMAX\n",
    "    \"\"\"\n",
    "    \n",
    "    return session.query(func.min(Measurement.tobs), func.avg(Measurement.tobs), func.max(Measurement.tobs)).\\\n",
    "        filter(Measurement.date >= start_date).filter(Measurement.date <= end_date).all()\n",
    "\n",
    "# function usage example\n",
    "print(calc_temps('2012-02-28', '2012-03-05'))"
   ]
  },
  {
   "cell_type": "code",
   "execution_count": 19,
   "metadata": {},
   "outputs": [],
   "source": [
    "# Use your previous function `calc_temps` to calculate the tmin, tavg, and tmax \n",
    "# for your trip using the previous year's data for those same dates.\n"
   ]
  },
  {
   "cell_type": "code",
   "execution_count": 20,
   "metadata": {},
   "outputs": [],
   "source": [
    "# Plot the results from your previous query as a bar chart. \n",
    "# Use \"Trip Avg Temp\" as your Title\n",
    "# Use the average temperature for the y value\n",
    "# Use the peak-to-peak (tmax-tmin) value as the y error bar (yerr)\n"
   ]
  },
  {
   "cell_type": "code",
   "execution_count": 21,
   "metadata": {},
   "outputs": [],
   "source": [
    "# Calculate the total amount of rainfall per weather station for your trip dates using the previous year's matching dates.\n",
    "# Sort this in descending order by precipitation amount and list the station, name, latitude, longitude, and elevation\n",
    "\n"
   ]
  },
  {
   "cell_type": "code",
   "execution_count": 22,
   "metadata": {},
   "outputs": [
    {
     "data": {
      "text/plain": [
       "[(62.0, 69.15384615384616, 77.0)]"
      ]
     },
     "execution_count": 22,
     "metadata": {},
     "output_type": "execute_result"
    }
   ],
   "source": [
    "# Create a query that will calculate the daily normals \n",
    "# (i.e. the averages for tmin, tmax, and tavg for all historic data matching a specific month and day)\n",
    "\n",
    "def daily_normals(date):\n",
    "    \"\"\"Daily Normals.\n",
    "    \n",
    "    Args:\n",
    "        date (str): A date string in the format '%m-%d'\n",
    "        \n",
    "    Returns:\n",
    "        A list of tuples containing the daily normals, tmin, tavg, and tmax\n",
    "    \n",
    "    \"\"\"\n",
    "    \n",
    "    sel = [func.min(Measurement.tobs), func.avg(Measurement.tobs), func.max(Measurement.tobs)]\n",
    "    return session.query(*sel).filter(func.strftime(\"%m-%d\", Measurement.date) == date).all()\n",
    "    \n",
    "daily_normals(\"01-01\")"
   ]
  },
  {
   "cell_type": "code",
   "execution_count": 23,
   "metadata": {},
   "outputs": [],
   "source": [
    "# calculate the daily normals for your trip\n",
    "# push each tuple of calculations into a list called `normals`\n",
    "\n",
    "# Set the start and end date of the trip\n",
    "\n",
    "# Use the start and end date to create a range of dates\n",
    "\n",
    "# Stip off the year and save a list of %m-%d strings\n",
    "\n",
    "# Loop through the list of %m-%d strings and calculate the normals for each date\n"
   ]
  },
  {
   "cell_type": "code",
   "execution_count": 24,
   "metadata": {},
   "outputs": [],
   "source": [
    "# Load the previous query results into a Pandas DataFrame and add the `trip_dates` range as the `date` index\n"
   ]
  },
  {
   "cell_type": "code",
   "execution_count": 25,
   "metadata": {},
   "outputs": [],
   "source": [
    "# Plot the daily normals as an area plot with `stacked=False`\n"
   ]
  }
 ],
 "metadata": {
  "kernel_info": {
   "name": "python3"
  },
  "kernelspec": {
   "display_name": "Python [conda env:PythonData] *",
   "language": "python",
   "name": "conda-env-PythonData-py"
  },
  "language_info": {
   "codemirror_mode": {
    "name": "ipython",
    "version": 3
   },
   "file_extension": ".py",
   "mimetype": "text/x-python",
   "name": "python",
   "nbconvert_exporter": "python",
   "pygments_lexer": "ipython3",
   "version": "3.6.10"
  },
  "nteract": {
   "version": "0.12.3"
  },
  "varInspector": {
   "cols": {
    "lenName": 16,
    "lenType": 16,
    "lenVar": 40
   },
   "kernels_config": {
    "python": {
     "delete_cmd_postfix": "",
     "delete_cmd_prefix": "del ",
     "library": "var_list.py",
     "varRefreshCmd": "print(var_dic_list())"
    },
    "r": {
     "delete_cmd_postfix": ") ",
     "delete_cmd_prefix": "rm(",
     "library": "var_list.r",
     "varRefreshCmd": "cat(var_dic_list()) "
    }
   },
   "types_to_exclude": [
    "module",
    "function",
    "builtin_function_or_method",
    "instance",
    "_Feature"
   ],
   "window_display": false
  }
 },
 "nbformat": 4,
 "nbformat_minor": 2
}
